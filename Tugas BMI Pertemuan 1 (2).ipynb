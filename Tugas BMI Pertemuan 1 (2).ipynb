{
 "cells": [
  {
   "cell_type": "markdown",
   "metadata": {},
   "source": [
    "# LATIHAN I\n",
    "Body Mass Index (BMI) "
   ]
  },
  {
   "cell_type": "code",
   "execution_count": 3,
   "metadata": {},
   "outputs": [
    {
     "name": "stdout",
     "output_type": "stream",
     "text": [
      "1.55\n",
      "18.730489073881373\n",
      "Normal (healthy weight)\n"
     ]
    }
   ],
   "source": [
    "# VARIABEL W = Weight, h = height\n",
    "W = 45 # Weight berat badan dalam KG\n",
    "h = 155 # Height dalam CM\n",
    "\n",
    "H = (h/100) #dalam Meter\n",
    "print (H)\n",
    "\n",
    "BMI = (W/(H**2)) #Rumus menghitung BMI\n",
    "print (BMI)\n",
    "\n",
    "if BMI < 15:\n",
    "    print (\"Very severely underweight\")\n",
    "if BMI > 15 and BMI < 16:\n",
    "    print (\"Severely underweight\")\n",
    "if BMI > 16 and BMI < 18.5:\n",
    "    print (\"Underweight\")\n",
    "if BMI > 18.5 and BMI < 25:\n",
    "    print (\"Normal (healthy weight)\")\n",
    "if BMI > 25 and BMI < 30:\n",
    "    print (\"Overweight\")\n",
    "if BMI > 30 and BMI < 35:\n",
    "    print (\"Moderately Obese\")\n",
    "if BMI > 35 and BMI < 40:\n",
    "    print (\"Severaly Obese\")\n",
    "if BMI > 40:\n",
    "    print (\"Very Severely Obese\")\n",
    "\n"
   ]
  },
  {
   "cell_type": "code",
   "execution_count": null,
   "metadata": {},
   "outputs": [],
   "source": []
  },
  {
   "cell_type": "code",
   "execution_count": null,
   "metadata": {},
   "outputs": [],
   "source": []
  }
 ],
 "metadata": {
  "kernelspec": {
   "display_name": "Python 3",
   "language": "python",
   "name": "python3"
  },
  "language_info": {
   "codemirror_mode": {
    "name": "ipython",
    "version": 3
   },
   "file_extension": ".py",
   "mimetype": "text/x-python",
   "name": "python",
   "nbconvert_exporter": "python",
   "pygments_lexer": "ipython3",
   "version": "3.7.0"
  }
 },
 "nbformat": 4,
 "nbformat_minor": 2
}
